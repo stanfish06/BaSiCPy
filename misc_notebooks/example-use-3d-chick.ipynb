{
 "cells": [
  {
   "cell_type": "code",
   "execution_count": null,
   "id": "d153b9c0",
   "metadata": {},
   "outputs": [],
   "source": [
    "import bioformats\n",
    "import javabridge\n",
    "import numpy as np\n",
    "import tifffile\n",
    "from tqdm import tqdm, trange\n",
    "\n",
    "from basicpy import BaSiC\n",
    "\n",
    "javabridge.start_vm(class_path=bioformats.JARS)"
   ]
  },
  {
   "cell_type": "code",
   "execution_count": null,
   "id": "bcdb3b1c",
   "metadata": {},
   "outputs": [],
   "source": [
    "stack_list = []\n",
    "ind_include = [62, 61, 72, 71]\n",
    "for ind in tqdm(ind_include):\n",
    "    stack_test_path = f\"./250317_ChickEmbryo18h_SOX2_EOMES_TBXT_{ind}.vsi\"\n",
    "    stack_test = None\n",
    "    with bioformats.ImageReader(stack_test_path) as reader:\n",
    "        meta = bioformats.get_omexml_metadata(stack_test_path)\n",
    "        meta = bioformats.omexml.OMEXML(meta).image(0)\n",
    "        for i in trange(meta.Pixels.SizeZ):\n",
    "            img = (np.expand_dims(reader.read(z=i), 0) * 65535).astype(np.uint16)\n",
    "            if stack_test is None:\n",
    "                stack_test = img\n",
    "            else:\n",
    "                stack_test = np.concatenate([stack_test, img], axis=0)\n",
    "    stack_list.append(stack_test)"
   ]
  },
  {
   "cell_type": "code",
   "execution_count": null,
   "id": "cf386d91",
   "metadata": {},
   "outputs": [],
   "source": [
    "full_stack = np.concatenate(stack_list, 0)"
   ]
  },
  {
   "cell_type": "code",
   "execution_count": null,
   "id": "f7bddaa1",
   "metadata": {},
   "outputs": [],
   "source": [
    "# fit one and transform others? I will do independently\n",
    "stack_correct_list = []\n",
    "basic_models = []\n",
    "trained = False\n",
    "for stack_test in tqdm(stack_list):\n",
    "    stack_correct = np.zeros_like(stack_test)\n",
    "    for i in trange(stack_correct.shape[3]):\n",
    "        if not trained:\n",
    "            basic = BaSiC(get_darkfield=True)\n",
    "            basic.fit(full_stack[:, :, :, i])\n",
    "            # basic.autotune(full_stack[:, :, :, i], early_stop=True, n_iter=100)\n",
    "            basic_models.append(basic)\n",
    "        stack_correct[:, :, :, i] = basic_models[i].transform(stack_test[:, :, :, i])\n",
    "    trained = True\n",
    "    stack_correct_list.append(stack_correct)"
   ]
  },
  {
   "cell_type": "code",
   "execution_count": null,
   "id": "d1dfadc0",
   "metadata": {},
   "outputs": [],
   "source": [
    "def save_imagej_compatible(stack, filename):\n",
    "    \"\"\"\n",
    "    Save stack in ImageJ-compatible format\n",
    "    \"\"\"\n",
    "    stack_uint16 = stack.astype(np.uint16)\n",
    "\n",
    "    tifffile.imwrite(\n",
    "        filename,\n",
    "        stack_uint16,\n",
    "        metadata={\n",
    "            \"axes\": \"ZYXC\",\n",
    "            \"mode\": \"composite\",  # For multi-channel\n",
    "        },\n",
    "    )\n",
    "\n",
    "\n",
    "for i, stack_test in enumerate(stack_correct_list):\n",
    "    save_imagej_compatible(np.floor(stack_test), f\"./test_corrected_{i}.tif\")"
   ]
  },
  {
   "cell_type": "code",
   "execution_count": null,
   "id": "c153a324",
   "metadata": {},
   "outputs": [],
   "source": [
    "javabridge.kill_vm()"
   ]
  }
 ],
 "metadata": {
  "kernelspec": {
   "display_name": "basic",
   "language": "python",
   "name": "python3"
  },
  "language_info": {
   "codemirror_mode": {
    "name": "ipython",
    "version": 3
   },
   "file_extension": ".py",
   "mimetype": "text/x-python",
   "name": "python",
   "nbconvert_exporter": "python",
   "pygments_lexer": "ipython3",
   "version": "3.10.15"
  }
 },
 "nbformat": 4,
 "nbformat_minor": 5
}
